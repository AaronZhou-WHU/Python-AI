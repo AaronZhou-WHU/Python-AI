{
 "cells": [
  {
   "cell_type": "markdown",
   "metadata": {},
   "source": [
    "# def 函数\n",
    "\n",
    "**DRY rule：In software,don't repeat yourself**"
   ]
  },
  {
   "cell_type": "code",
   "execution_count": 35,
   "metadata": {
    "collapsed": true
   },
   "outputs": [],
   "source": [
    "def function_name(parameters):\n",
    "    expressions"
   ]
  },
  {
   "cell_type": "code",
   "execution_count": 36,
   "metadata": {},
   "outputs": [
    {
     "name": "stdout",
     "output_type": "stream",
     "text": [
      "AdiAdi 8.4\n"
     ]
    }
   ],
   "source": [
    "def double_print(object1,object2):\n",
    "    print(object1 *2,object2 * 2)\n",
    "    \n",
    "double_print('Adi',4.2)"
   ]
  },
  {
   "cell_type": "markdown",
   "metadata": {},
   "source": [
    "### 函数默认参数\n"
   ]
  },
  {
   "cell_type": "code",
   "execution_count": 37,
   "metadata": {},
   "outputs": [
    {
     "name": "stdout",
     "output_type": "stream",
     "text": [
      "price: 100dollar sex: female brand: Adidas is_second_hand: False\n"
     ]
    }
   ],
   "source": [
    "def sale_robot(price, sex, brand='Adidas',is_second_hand=False):\n",
    "    print('price:',price,\n",
    "         'sex:',sex,\n",
    "         'brand:', brand,\n",
    "         'is_second_hand:', is_second_hand,)\n",
    "\n",
    "sale_robot('100dollar', 'female')"
   ]
  },
  {
   "cell_type": "code",
   "execution_count": 38,
   "metadata": {},
   "outputs": [
    {
     "ename": "SyntaxError",
     "evalue": "unexpected EOF while parsing (<ipython-input-38-d3a6ce2db017>, line 2)",
     "output_type": "error",
     "traceback": [
      "\u001b[0;36m  File \u001b[0;32m\"<ipython-input-38-d3a6ce2db017>\"\u001b[0;36m, line \u001b[0;32m2\u001b[0m\n\u001b[0;31m    # code here\u001b[0m\n\u001b[0m               ^\u001b[0m\n\u001b[0;31mSyntaxError\u001b[0m\u001b[0;31m:\u001b[0m unexpected EOF while parsing\n"
     ]
    }
   ],
   "source": [
    "if __name__ == '__main__': #  自调用\n",
    "    # code here"
   ]
  },
  {
   "cell_type": "code",
   "execution_count": 39,
   "metadata": {},
   "outputs": [
    {
     "name": "stdout",
     "output_type": "stream",
     "text": [
      "Adi total grade is 297\n",
      "Jerry total grade is 100\n"
     ]
    }
   ],
   "source": [
    "def report(name, *grades): # *grades使用* 来装饰，表明是可变参数，是可迭代的对象\n",
    "    total_grade = 0\n",
    "    for grade in grades:\n",
    "        total_grade += grade\n",
    "    print(name, 'total grade is', total_grade)\n",
    "\n",
    "report('Adi', 100,99,98)    \n",
    "report('Jerry', 100)"
   ]
  },
  {
   "cell_type": "code",
   "execution_count": 49,
   "metadata": {},
   "outputs": [
    {
     "name": "stdout",
     "output_type": "stream",
     "text": [
      "name is Jerry\n",
      "age 29\n",
      "country China\n",
      "education Master\n",
      "skill Python\n"
     ]
    }
   ],
   "source": [
    "def portrait(name, **kw): # **kw,表明是关键字参数\n",
    "    print('name is', name)\n",
    "    for k,v in kw.items(): #items 字典(Dictionary) items() 函数以列表返回可遍历的(键, 值) 元组数组。\n",
    "        print(k,v) # k is key，v is value\n",
    "        \n",
    "portrait('Jerry', age = 29, country='China',education='Master',skill='Python')       "
   ]
  },
  {
   "cell_type": "markdown",
   "metadata": {},
   "source": [
    "**通过可变参数和关键字参数，任何函数都可以用 universal_func(*args, **kw) 表达"
   ]
  },
  {
   "cell_type": "markdown",
   "metadata": {},
   "source": [
    "# 变量形式\n",
    "\n",
    " - 全局变量\n",
    " - 局部变量"
   ]
  },
  {
   "cell_type": "markdown",
   "metadata": {},
   "source": [
    "## Class类"
   ]
  },
  {
   "cell_type": "code",
   "execution_count": 41,
   "metadata": {
    "collapsed": true
   },
   "outputs": [],
   "source": [
    "class Calculator: # 首字母大写\n",
    "    name = 'Suck Calculator' # class 的属性 name \n",
    "    price = 18\n",
    "    def add(self,x,y): # self 是默认值\n",
    "        print(self.name)\n",
    "        result = x + y\n",
    "        print(result)\n",
    "    def minus(self,x,y):\n",
    "        result=x-y\n",
    "        print(result)\n",
    "    def times(self,x,y):\n",
    "        print(x*y)\n",
    "    def divide(self,x,y):\n",
    "        print(x/y)"
   ]
  },
  {
   "cell_type": "code",
   "execution_count": 42,
   "metadata": {},
   "outputs": [
    {
     "data": {
      "text/plain": [
       "'Suck Calculator'"
      ]
     },
     "execution_count": 42,
     "metadata": {},
     "output_type": "execute_result"
    }
   ],
   "source": [
    "cal = Calculator() # must type()\n",
    "cal.name"
   ]
  },
  {
   "cell_type": "code",
   "execution_count": 43,
   "metadata": {},
   "outputs": [
    {
     "data": {
      "text/plain": [
       "18"
      ]
     },
     "execution_count": 43,
     "metadata": {},
     "output_type": "execute_result"
    }
   ],
   "source": [
    "cal.price"
   ]
  },
  {
   "cell_type": "code",
   "execution_count": 44,
   "metadata": {},
   "outputs": [
    {
     "name": "stdout",
     "output_type": "stream",
     "text": [
      "Suck Calculator\n",
      "47\n"
     ]
    }
   ],
   "source": [
    "cal.add(13,34)"
   ]
  },
  {
   "cell_type": "code",
   "execution_count": 45,
   "metadata": {},
   "outputs": [
    {
     "name": "stdout",
     "output_type": "stream",
     "text": [
      "0\n"
     ]
    }
   ],
   "source": [
    "cal.minus(23,23)"
   ]
  },
  {
   "cell_type": "code",
   "execution_count": 46,
   "metadata": {},
   "outputs": [
    {
     "name": "stdout",
     "output_type": "stream",
     "text": [
      "0.7555555555555555\n"
     ]
    }
   ],
   "source": [
    "cal.divide(34,45)"
   ]
  },
  {
   "cell_type": "code",
   "execution_count": 47,
   "metadata": {},
   "outputs": [
    {
     "data": {
      "text/plain": [
       "False"
      ]
     },
     "execution_count": 47,
     "metadata": {},
     "output_type": "execute_result"
    }
   ],
   "source": [
    "5 == True # 问 Computer，5是否等于 True？"
   ]
  },
  {
   "cell_type": "markdown",
   "metadata": {
    "collapsed": true
   },
   "source": [
    "# input"
   ]
  },
  {
   "cell_type": "code",
   "execution_count": 1,
   "metadata": {},
   "outputs": [
    {
     "name": "stdout",
     "output_type": "stream",
     "text": [
      "please input a number:w323\n",
      "this number is: w323\n"
     ]
    }
   ],
   "source": [
    "a_input=input('please input a number:')\n",
    "print('this number is:',a_input)"
   ]
  },
  {
   "cell_type": "code",
   "execution_count": 2,
   "metadata": {},
   "outputs": [
    {
     "name": "stdout",
     "output_type": "stream",
     "text": [
      "please input a number2\n",
      "See you next time\n"
     ]
    }
   ],
   "source": [
    "a_input=int(input('please input a number')) # define int\n",
    "if a_input==1:\n",
    "    print('This is a good one')\n",
    "elif a_input==2:\n",
    "    print('See you next time')\n",
    "else:\n",
    "    print('Good luck')"
   ]
  },
  {
   "cell_type": "code",
   "execution_count": 3,
   "metadata": {},
   "outputs": [
    {
     "name": "stdout",
     "output_type": "stream",
     "text": [
      "Please input your socre: \n",
      "80\n",
      "You get a B\n"
     ]
    }
   ],
   "source": [
    "score=int(input('Please input your socre: \\n'))\n",
    "if score>=90:\n",
    "    print('Congradulation, you get an A')\n",
    "elif score>=80:\n",
    "    print('You get a B')\n",
    "elif score>=70:\n",
    "    print('You get a C')\n",
    "elif score>=60:\n",
    "    print(\"You get a D\")\n",
    "else:\n",
    "    print('Sorry, you are failed')\n",
    "    "
   ]
  },
  {
   "cell_type": "markdown",
   "metadata": {},
   "source": [
    "## 元组 Tuple，列表 list，字典 Dictionary"
   ]
  },
  {
   "cell_type": "code",
   "execution_count": 5,
   "metadata": {},
   "outputs": [
    {
     "name": "stdout",
     "output_type": "stream",
     "text": [
      "(12, 3, 5, 15, 6)\n",
      "(3, 34, 5, 66, 453)\n"
     ]
    }
   ],
   "source": [
    "a_tuple = (12,3,5,15,6)\n",
    "another_tuple = (3,34,5,66,453)\n",
    "print(a_tuple)\n",
    "print(another_tuple)\n"
   ]
  },
  {
   "cell_type": "code",
   "execution_count": 6,
   "metadata": {
    "collapsed": true
   },
   "outputs": [],
   "source": [
    "another_boring_list = [1,3,5,5,5,]"
   ]
  },
  {
   "cell_type": "code",
   "execution_count": 9,
   "metadata": {},
   "outputs": [
    {
     "name": "stdout",
     "output_type": "stream",
     "text": [
      "12\n",
      "3\n",
      "5\n",
      "15\n",
      "6\n",
      "1\n",
      "3\n",
      "5\n",
      "5\n",
      "5\n"
     ]
    }
   ],
   "source": [
    "for content in a_tuple:\n",
    "    print(content)\n",
    "\n",
    "for v in another_boring_list:\n",
    "    print(v)"
   ]
  },
  {
   "cell_type": "code",
   "execution_count": 11,
   "metadata": {},
   "outputs": [
    {
     "name": "stdout",
     "output_type": "stream",
     "text": [
      "index= 0 , number in list =  1\n",
      "index= 1 , number in list =  3\n",
      "index= 2 , number in list =  5\n",
      "index= 3 , number in list =  5\n",
      "index= 4 , number in list =  5\n",
      "index= 0 , number in list =  12\n",
      "index= 1 , number in list =  3\n",
      "index= 2 , number in list =  5\n",
      "index= 3 , number in list =  15\n",
      "index= 4 , number in list =  6\n"
     ]
    }
   ],
   "source": [
    "for index in range(len(another_boring_list)):\n",
    "    print(\"index=\",index,\", number in list = \",another_boring_list[index])\n",
    "    \n",
    "for index in range(len(a_tuple)):\n",
    "    print(\"index=\",index,\", number in list = \",a_tuple[index])"
   ]
  },
  {
   "cell_type": "code",
   "execution_count": 12,
   "metadata": {},
   "outputs": [
    {
     "name": "stdout",
     "output_type": "stream",
     "text": [
      "[1, 2, 4, 5, 6, 6, 6, 0]\n"
     ]
    }
   ],
   "source": [
    "a = [1,2,4,5,6,6,6]\n",
    "a.append(0)\n",
    "print(a)"
   ]
  },
  {
   "cell_type": "code",
   "execution_count": 17,
   "metadata": {},
   "outputs": [
    {
     "name": "stdout",
     "output_type": "stream",
     "text": [
      "[1, 0, 0, 4, 5, 6, 6, 6, 0]\n"
     ]
    }
   ],
   "source": [
    "a.insert(1,0)\n",
    "print(a)"
   ]
  },
  {
   "cell_type": "code",
   "execution_count": 19,
   "metadata": {},
   "outputs": [
    {
     "name": "stdout",
     "output_type": "stream",
     "text": [
      "[1, 0, 0, 4, 5, 6, 6, 0]\n"
     ]
    }
   ],
   "source": [
    "a.remove(6)\n",
    "print(a)"
   ]
  },
  {
   "cell_type": "code",
   "execution_count": 20,
   "metadata": {},
   "outputs": [
    {
     "name": "stdout",
     "output_type": "stream",
     "text": [
      "0\n",
      "[1, 0, 0]\n",
      "[6, 6, 0]\n",
      "[6, 6, 0]\n"
     ]
    }
   ],
   "source": [
    "print(a[-1]) \n",
    "print(a[0:3])\n",
    "print(a[5:]) \n",
    "print(a[-3:]) "
   ]
  },
  {
   "cell_type": "code",
   "execution_count": 21,
   "metadata": {},
   "outputs": [
    {
     "name": "stdout",
     "output_type": "stream",
     "text": [
      "5\n"
     ]
    }
   ],
   "source": [
    "print(a.index(6))"
   ]
  },
  {
   "cell_type": "code",
   "execution_count": 22,
   "metadata": {},
   "outputs": [
    {
     "name": "stdout",
     "output_type": "stream",
     "text": [
      "2\n"
     ]
    }
   ],
   "source": [
    "print(a.count(6))"
   ]
  },
  {
   "cell_type": "code",
   "execution_count": 23,
   "metadata": {
    "collapsed": true
   },
   "outputs": [],
   "source": [
    "a = [1,2,3,4,5]\n",
    "multi_dim_a = [[1,2,3],[2,3,4],[3,4,5]] # 三行三列"
   ]
  },
  {
   "cell_type": "code",
   "execution_count": 24,
   "metadata": {},
   "outputs": [
    {
     "name": "stdout",
     "output_type": "stream",
     "text": [
      "[3, 4, 5]\n",
      "4\n"
     ]
    }
   ],
   "source": [
    "print(multi_dim_a[2])\n",
    "print(multi_dim_a[2][1])"
   ]
  },
  {
   "cell_type": "code",
   "execution_count": 30,
   "metadata": {
    "collapsed": true
   },
   "outputs": [],
   "source": [
    "a_list = [1,2,3,4,5,6,7,8]\n",
    "d1 = {'apple':1, 'pear':2, 'orange':3}\n",
    "d2 = {1:'a', 2:'b', 3:'c'}\n",
    "d3 = {1:'a', 'b':2, 'c':3}"
   ]
  },
  {
   "cell_type": "code",
   "execution_count": 31,
   "metadata": {},
   "outputs": [
    {
     "name": "stdout",
     "output_type": "stream",
     "text": [
      "1\n"
     ]
    }
   ],
   "source": [
    "print(d1['apple'])"
   ]
  },
  {
   "cell_type": "code",
   "execution_count": 32,
   "metadata": {},
   "outputs": [
    {
     "name": "stdout",
     "output_type": "stream",
     "text": [
      "{'apple': 1, 'orange': 3}\n"
     ]
    }
   ],
   "source": [
    "del d1['pear']\n",
    "print(d1)"
   ]
  },
  {
   "cell_type": "code",
   "execution_count": 33,
   "metadata": {},
   "outputs": [
    {
     "name": "stdout",
     "output_type": "stream",
     "text": [
      "{'apple': 1, 'orange': 3, 'banana': 28}\n"
     ]
    }
   ],
   "source": [
    "d1['banana'] = 28\n",
    "print(d1)"
   ]
  },
  {
   "cell_type": "code",
   "execution_count": 34,
   "metadata": {},
   "outputs": [
    {
     "name": "stdout",
     "output_type": "stream",
     "text": [
      "a\n"
     ]
    }
   ],
   "source": [
    "def func():\n",
    "    return 0\n",
    "d4 = {'apple':[1,2,3], 'pear':{1:3, 3:'a'}, 'orange':func}\n",
    "print(d4['pear'][3])    # a"
   ]
  },
  {
   "cell_type": "code",
   "execution_count": null,
   "metadata": {
    "collapsed": true
   },
   "outputs": [],
   "source": []
  }
 ],
 "metadata": {
  "kernelspec": {
   "display_name": "Python 3",
   "language": "python",
   "name": "python3"
  },
  "language_info": {
   "codemirror_mode": {
    "name": "ipython",
    "version": 3
   },
   "file_extension": ".py",
   "mimetype": "text/x-python",
   "name": "python",
   "nbconvert_exporter": "python",
   "pygments_lexer": "ipython3",
   "version": "3.6.4"
  }
 },
 "nbformat": 4,
 "nbformat_minor": 2
}
